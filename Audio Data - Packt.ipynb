{
 "cells": [
  {
   "cell_type": "markdown",
   "metadata": {},
   "source": [
    "- Reading and plotting audio data\n",
    "- Transforming audio signals into the frequency domain\n",
    "- Generating audio signals with custom parameters\n",
    "- Synthesizing Music\n",
    "- Extracting frequency domain features\n",
    "- Building Hidden Markov Models\n",
    "- Building a speech recognizer"
   ]
  },
  {
   "cell_type": "markdown",
   "metadata": {},
   "source": [
    "## Reading and Plotting Audio Data\n",
    "- Using the wavfile package to read the audio file\n",
    "- Normalizing the 16-bit signed integer data\n",
    "- Extracting first 30 values to plot and convert to seconds"
   ]
  },
  {
   "cell_type": "code",
   "execution_count": null,
   "metadata": {
    "collapsed": true
   },
   "outputs": [],
   "source": [
    "import numpy as np\n",
    "import matplotlib.pyplot as plt\n",
    "from scipy.io import wavfile\n",
    "%matplotlib inline\n",
    "\n",
    "# Read "
   ]
  }
 ],
 "metadata": {
  "kernelspec": {
   "display_name": "Python 3",
   "language": "python",
   "name": "python3"
  },
  "language_info": {
   "codemirror_mode": {
    "name": "ipython",
    "version": 3
   },
   "file_extension": ".py",
   "mimetype": "text/x-python",
   "name": "python",
   "nbconvert_exporter": "python",
   "pygments_lexer": "ipython3",
   "version": "3.6.0"
  }
 },
 "nbformat": 4,
 "nbformat_minor": 2
}
